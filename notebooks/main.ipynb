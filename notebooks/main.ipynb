{
 "cells": [
  {
   "cell_type": "code",
   "execution_count": null,
   "id": "45e719de",
   "metadata": {},
   "outputs": [],
   "source": [
    "SPEAKER_AUDIO_PATH = \"../data/VCTK-Corpus/VCTK-Corpus/wav48/p250\"\n",
    "SPEAKER_TRANSCRIPT_PATH = \"../data/VCTK-Corpus/VCTK-Corpus/txt/p250\"\n",
    "\n"
   ]
  }
 ],
 "metadata": {
  "language_info": {
   "name": "python"
  }
 },
 "nbformat": 4,
 "nbformat_minor": 5
}
