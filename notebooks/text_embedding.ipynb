{
 "cells": [
  {
   "cell_type": "code",
   "execution_count": 1,
   "metadata": {},
   "outputs": [
    {
     "name": "stdout",
     "output_type": "stream",
     "text": [
      "Requirement already satisfied: text2phonemesequence in /home/default/ML/speech-cloning/venv/lib/python3.10/site-packages (0.1.4)\n",
      "Requirement already satisfied: segments in /home/default/ML/speech-cloning/venv/lib/python3.10/site-packages (from text2phonemesequence) (2.3.0)\n",
      "Requirement already satisfied: tqdm in /home/default/ML/speech-cloning/venv/lib/python3.10/site-packages (from text2phonemesequence) (4.67.1)\n",
      "Requirement already satisfied: transformers in /home/default/ML/speech-cloning/venv/lib/python3.10/site-packages (from text2phonemesequence) (4.50.0)\n",
      "Requirement already satisfied: regex in /home/default/ML/speech-cloning/venv/lib/python3.10/site-packages (from segments->text2phonemesequence) (2024.11.6)\n",
      "Requirement already satisfied: csvw>=1.5.6 in /home/default/ML/speech-cloning/venv/lib/python3.10/site-packages (from segments->text2phonemesequence) (3.5.1)\n",
      "Requirement already satisfied: packaging>=20.0 in /home/default/ML/speech-cloning/venv/lib/python3.10/site-packages (from transformers->text2phonemesequence) (24.2)\n",
      "Requirement already satisfied: numpy>=1.17 in /home/default/ML/speech-cloning/venv/lib/python3.10/site-packages (from transformers->text2phonemesequence) (2.1.3)\n",
      "Requirement already satisfied: huggingface-hub<1.0,>=0.26.0 in /home/default/ML/speech-cloning/venv/lib/python3.10/site-packages (from transformers->text2phonemesequence) (0.29.3)\n",
      "Requirement already satisfied: tokenizers<0.22,>=0.21 in /home/default/ML/speech-cloning/venv/lib/python3.10/site-packages (from transformers->text2phonemesequence) (0.21.1)\n",
      "Requirement already satisfied: safetensors>=0.4.3 in /home/default/ML/speech-cloning/venv/lib/python3.10/site-packages (from transformers->text2phonemesequence) (0.5.3)\n",
      "Requirement already satisfied: filelock in /home/default/ML/speech-cloning/venv/lib/python3.10/site-packages (from transformers->text2phonemesequence) (3.17.0)\n",
      "Requirement already satisfied: requests in /home/default/ML/speech-cloning/venv/lib/python3.10/site-packages (from transformers->text2phonemesequence) (2.32.3)\n",
      "Requirement already satisfied: pyyaml>=5.1 in /home/default/ML/speech-cloning/venv/lib/python3.10/site-packages (from transformers->text2phonemesequence) (6.0.2)\n",
      "Requirement already satisfied: rdflib in /home/default/ML/speech-cloning/venv/lib/python3.10/site-packages (from csvw>=1.5.6->segments->text2phonemesequence) (7.1.3)\n",
      "Requirement already satisfied: language-tags in /home/default/ML/speech-cloning/venv/lib/python3.10/site-packages (from csvw>=1.5.6->segments->text2phonemesequence) (1.2.0)\n",
      "Requirement already satisfied: colorama in /home/default/ML/speech-cloning/venv/lib/python3.10/site-packages (from csvw>=1.5.6->segments->text2phonemesequence) (0.4.6)\n",
      "Requirement already satisfied: isodate in /home/default/ML/speech-cloning/venv/lib/python3.10/site-packages (from csvw>=1.5.6->segments->text2phonemesequence) (0.7.2)\n",
      "Requirement already satisfied: uritemplate>=3.0.0 in /home/default/ML/speech-cloning/venv/lib/python3.10/site-packages (from csvw>=1.5.6->segments->text2phonemesequence) (4.1.1)\n",
      "Requirement already satisfied: babel in /home/default/ML/speech-cloning/venv/lib/python3.10/site-packages (from csvw>=1.5.6->segments->text2phonemesequence) (2.17.0)\n",
      "Requirement already satisfied: jsonschema in /home/default/ML/speech-cloning/venv/lib/python3.10/site-packages (from csvw>=1.5.6->segments->text2phonemesequence) (4.23.0)\n",
      "Requirement already satisfied: attrs>=18.1 in /home/default/ML/speech-cloning/venv/lib/python3.10/site-packages (from csvw>=1.5.6->segments->text2phonemesequence) (25.3.0)\n",
      "Requirement already satisfied: rfc3986<2 in /home/default/ML/speech-cloning/venv/lib/python3.10/site-packages (from csvw>=1.5.6->segments->text2phonemesequence) (1.5.0)\n",
      "Requirement already satisfied: python-dateutil in /home/default/ML/speech-cloning/venv/lib/python3.10/site-packages (from csvw>=1.5.6->segments->text2phonemesequence) (2.9.0.post0)\n",
      "Requirement already satisfied: fsspec>=2023.5.0 in /home/default/ML/speech-cloning/venv/lib/python3.10/site-packages (from huggingface-hub<1.0,>=0.26.0->transformers->text2phonemesequence) (2025.2.0)\n",
      "Requirement already satisfied: typing-extensions>=3.7.4.3 in /home/default/ML/speech-cloning/venv/lib/python3.10/site-packages (from huggingface-hub<1.0,>=0.26.0->transformers->text2phonemesequence) (4.12.2)\n",
      "Requirement already satisfied: charset-normalizer<4,>=2 in /home/default/ML/speech-cloning/venv/lib/python3.10/site-packages (from requests->transformers->text2phonemesequence) (3.4.1)\n",
      "Requirement already satisfied: idna<4,>=2.5 in /home/default/ML/speech-cloning/venv/lib/python3.10/site-packages (from requests->transformers->text2phonemesequence) (3.10)\n",
      "Requirement already satisfied: urllib3<3,>=1.21.1 in /home/default/ML/speech-cloning/venv/lib/python3.10/site-packages (from requests->transformers->text2phonemesequence) (2.3.0)\n",
      "Requirement already satisfied: certifi>=2017.4.17 in /home/default/ML/speech-cloning/venv/lib/python3.10/site-packages (from requests->transformers->text2phonemesequence) (2025.1.31)\n",
      "Requirement already satisfied: rpds-py>=0.7.1 in /home/default/ML/speech-cloning/venv/lib/python3.10/site-packages (from jsonschema->csvw>=1.5.6->segments->text2phonemesequence) (0.23.1)\n",
      "Requirement already satisfied: jsonschema-specifications>=2023.03.6 in /home/default/ML/speech-cloning/venv/lib/python3.10/site-packages (from jsonschema->csvw>=1.5.6->segments->text2phonemesequence) (2024.10.1)\n",
      "Requirement already satisfied: referencing>=0.28.4 in /home/default/ML/speech-cloning/venv/lib/python3.10/site-packages (from jsonschema->csvw>=1.5.6->segments->text2phonemesequence) (0.36.2)\n",
      "Requirement already satisfied: six>=1.5 in /home/default/ML/speech-cloning/venv/lib/python3.10/site-packages (from python-dateutil->csvw>=1.5.6->segments->text2phonemesequence) (1.17.0)\n",
      "Requirement already satisfied: pyparsing<4,>=2.1.0 in /home/default/ML/speech-cloning/venv/lib/python3.10/site-packages (from rdflib->csvw>=1.5.6->segments->text2phonemesequence) (3.2.1)\n"
     ]
    }
   ],
   "source": [
    "!pip install text2phonemesequence\n"
   ]
  },
  {
   "cell_type": "code",
   "execution_count": 2,
   "metadata": {},
   "outputs": [
    {
     "name": "stderr",
     "output_type": "stream",
     "text": [
      "Some weights of RobertaModel were not initialized from the model checkpoint at vinai/xphonebert-base and are newly initialized: ['pooler.dense.bias', 'pooler.dense.weight']\n",
      "You should probably TRAIN this model on a down-stream task to be able to use it for predictions and inference.\n"
     ]
    },
    {
     "name": "stdout",
     "output_type": "stream",
     "text": [
      "<class 'transformers.models.roberta.modeling_roberta.RobertaModel'>\n",
      "<class 'transformers.models.roberta.tokenization_roberta_fast.RobertaTokenizerFast'>\n"
     ]
    }
   ],
   "source": [
    "import torch\n",
    "from transformers import AutoModel, AutoTokenizer\n",
    "from text2phonemesequence import Text2PhonemeSequence\n",
    "\n",
    "# Load XPhoneBERT model and its tokenizer\n",
    "xphonebert = AutoModel.from_pretrained(\"vinai/xphonebert-base\")\n",
    "tokenizer = AutoTokenizer.from_pretrained(\"vinai/xphonebert-base\")\n",
    "\n",
    "print(type(xphonebert))\n",
    "print(type(tokenizer))\n",
    "\n",
    "# Load Text2PhonemeSequence\n",
    "text2phone_model = Text2PhonemeSequence(language='eng-us', is_cuda=True)\n",
    "\n",
    "# Input sequence that is already WORD-SEGMENTED (and text-normalized if applicable)\n",
    "  \n",
    "sentence = \"This is deep learning project .\"\n",
    "\n",
    "input_phonemes = text2phone_model.infer_sentence(sentence)\n",
    "\n",
    "input_ids = tokenizer(input_phonemes, return_tensors=\"pt\")\n",
    "\n",
    "with torch.no_grad():\n",
    "    outputs = xphonebert(**input_ids)\n",
    "    phoneme_embeddings = outputs.last_hidden_state  # [1, T, 768]\n"
   ]
  },
  {
   "cell_type": "code",
   "execution_count": 3,
   "metadata": {},
   "outputs": [
    {
     "data": {
      "text/plain": [
       "'ˈð ɪ s ▁ ˈɪ z ▁ ˈd i p ▁ ˈɫ ɝ n ɪ ŋ ▁ ˈp ɹ ɑ d ʒ ɛ k t ▁ .'"
      ]
     },
     "execution_count": 3,
     "metadata": {},
     "output_type": "execute_result"
    }
   ],
   "source": [
    "input_phonemes\n"
   ]
  },
  {
   "cell_type": "code",
   "execution_count": 4,
   "metadata": {},
   "outputs": [
    {
     "data": {
      "text/plain": [
       "{'input_ids': tensor([[  0,  72,  12,   9,   4,  48,  27,   4,  99,   8,  21,   4, 135,  67,\n",
       "           5,  12,  35,   4, 100,  36,  31,  11,  60,  17,  13,   7,   4,  33,\n",
       "           2]]), 'attention_mask': tensor([[1, 1, 1, 1, 1, 1, 1, 1, 1, 1, 1, 1, 1, 1, 1, 1, 1, 1, 1, 1, 1, 1, 1, 1,\n",
       "         1, 1, 1, 1, 1]])}"
      ]
     },
     "execution_count": 4,
     "metadata": {},
     "output_type": "execute_result"
    }
   ],
   "source": [
    "input_ids\n"
   ]
  },
  {
   "cell_type": "code",
   "execution_count": 5,
   "metadata": {},
   "outputs": [
    {
     "data": {
      "text/plain": [
       "torch.Size([1, 29, 768])"
      ]
     },
     "execution_count": 5,
     "metadata": {},
     "output_type": "execute_result"
    }
   ],
   "source": [
    "phoneme_embeddings.shape\n"
   ]
  },
  {
   "cell_type": "code",
   "execution_count": null,
   "metadata": {},
   "outputs": [
    {
     "data": {
      "text/plain": [
       "(tensor(3.2162), tensor(-3.5025))"
      ]
     },
     "execution_count": 6,
     "metadata": {},
     "output_type": "execute_result"
    }
   ],
   "source": [
    "torch.max(phoneme_embeddings), torch.min(phoneme_embeddings)\n"
   ]
  },
  {
   "cell_type": "code",
   "execution_count": null,
   "metadata": {},
   "outputs": [
    {
     "name": "stdout",
     "output_type": "stream",
     "text": [
      "(22272,)\n"
     ]
    },
    {
     "data": {
      "image/png": "[encoded data removed]",
      "text/plain": [
       "<Figure size 640x480 with 1 Axes>"
      ]
     },
     "metadata": {},
     "output_type": "display_data"
    }
   ],
   "source": [
    "import matplotlib.pyplot as plt\n",
    "dist = phoneme_embeddings.reshape(-1).numpy()\n",
    "print(dist.shape)\n",
    "plt.hist(dist, bins=100)\n",
    "plt.show()\n"
   ]
  },
  {
   "cell_type": "code",
   "execution_count": null,
   "metadata": {},
   "outputs": [
    {
     "data": {
      "text/plain": [
       "(tensor(0.4388), tensor(-0.5060))"
      ]
     },
     "execution_count": 8,
     "metadata": {},
     "output_type": "execute_result"
    }
   ],
   "source": [
    "# after normalization\n",
    "\n",
    "phoneme_embeddings = phoneme_embeddings / torch.norm(phoneme_embeddings, dim=-1, keepdim=True)\n",
    "\n",
    "torch.max(phoneme_embeddings), torch.min(phoneme_embeddings)\n"
   ]
  }
 ],
 "metadata": {
  "kernelspec": {
   "display_name": "venv",
   "language": "python",
   "name": "python3"
  },
  "language_info": {
   "codemirror_mode": {
    "name": "ipython",
    "version": 3
   },
   "file_extension": ".py",
   "mimetype": "text/x-python",
   "name": "python",
   "nbconvert_exporter": "python",
   "pygments_lexer": "ipython3",
   "version": "3.10.12"
  }
 },
 "nbformat": 4,
 "nbformat_minor": 2
}
